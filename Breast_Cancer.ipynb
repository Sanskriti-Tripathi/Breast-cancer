{
  "nbformat": 4,
  "nbformat_minor": 0,
  "metadata": {
    "colab": {
      "provenance": [],
      "authorship_tag": "ABX9TyO/9wX785k+TGJuMvvKmcuS",
      "include_colab_link": true
    },
    "kernelspec": {
      "name": "python3",
      "display_name": "Python 3"
    },
    "language_info": {
      "name": "python"
    }
  },
  "cells": [
    {
      "cell_type": "markdown",
      "metadata": {
        "id": "view-in-github",
        "colab_type": "text"
      },
      "source": [
        "<a href=\"https://colab.research.google.com/github/Sanskriti-Tripathi/Breast-cancer/blob/main/Breast_Cancer.ipynb\" target=\"_parent\"><img src=\"https://colab.research.google.com/assets/colab-badge.svg\" alt=\"Open In Colab\"/></a>"
      ]
    },
    {
      "cell_type": "code",
      "execution_count": null,
      "metadata": {
        "id": "7mlkuPBFPb74"
      },
      "outputs": [],
      "source": [
        "#import libraries\n",
        "import numpy as np\n",
        "import sklearn.datasets\n",
        "#getting the dataset\n",
        "breast_cancer=sklearn.datasets.load_breast_cancer()\n",
        "print(breast_cancer)"
      ]
    },
    {
      "cell_type": "code",
      "source": [
        "x=breast_cancer.data\n",
        "y=breast_cancer.target\n",
        "print(x)\n",
        "print(y)"
      ],
      "metadata": {
        "id": "z2Hemp0SRD0j"
      },
      "execution_count": null,
      "outputs": []
    },
    {
      "cell_type": "code",
      "source": [
        "print(x.shape,y.shape)"
      ],
      "metadata": {
        "id": "2d2Xm8VBShRy"
      },
      "execution_count": null,
      "outputs": []
    },
    {
      "cell_type": "code",
      "source": [
        "#import data to the pandas data frame\n",
        "import pandas as pd\n",
        "data=pd.DataFrame(breast_cancer.data,columns=breast_cancer.feature_names)\n",
        "data['class']=breast_cancer.target\n",
        "data.head()\n"
      ],
      "metadata": {
        "id": "U0VFCZtTSmyN"
      },
      "execution_count": null,
      "outputs": []
    },
    {
      "cell_type": "code",
      "source": [
        "data.describe()"
      ],
      "metadata": {
        "id": "_dDzaE6fTPHZ"
      },
      "execution_count": null,
      "outputs": []
    },
    {
      "cell_type": "code",
      "source": [
        "print(data['class'].value_counts())"
      ],
      "metadata": {
        "colab": {
          "base_uri": "https://localhost:8080/"
        },
        "id": "jBo83e3OTUUd",
        "outputId": "1505ade4-62e3-47bd-fee7-e470eec4918e"
      },
      "execution_count": null,
      "outputs": [
        {
          "output_type": "stream",
          "name": "stdout",
          "text": [
            "1    357\n",
            "0    212\n",
            "Name: class, dtype: int64\n"
          ]
        }
      ]
    },
    {
      "cell_type": "code",
      "source": [
        "print(breast_cancer.target_names)"
      ],
      "metadata": {
        "id": "4FzbxznWTf2g"
      },
      "execution_count": null,
      "outputs": []
    },
    {
      "cell_type": "code",
      "source": [
        "data.groupby('class').mean()"
      ],
      "metadata": {
        "id": "HiTOsc4PTnWi"
      },
      "execution_count": null,
      "outputs": []
    },
    {
      "cell_type": "markdown",
      "source": [
        "0- Malignant\n",
        "1- Benign"
      ],
      "metadata": {
        "id": "nr66cVa28R41"
      }
    },
    {
      "cell_type": "code",
      "source": [
        "#Train and Test split\n",
        "from sklearn.model_selection import train_test_split\n",
        "x_train,x_test,y_train,y_test=train_test_split(x,y)\n",
        "print(y.shape,y_train.shape,y_test.shape)"
      ],
      "metadata": {
        "id": "FU-PDscAVgrh"
      },
      "execution_count": null,
      "outputs": []
    },
    {
      "cell_type": "code",
      "source": [
        "x_train,x_test,y_train,y_test=train_test_split(x,y,test_size=0.1)\n",
        "# test size ---> to specify the percentage of test data needed\n",
        "print(y.shape,y_train.shape,y_test.shape)"
      ],
      "metadata": {
        "id": "cehNo9NCWTug"
      },
      "execution_count": null,
      "outputs": []
    },
    {
      "cell_type": "code",
      "source": [
        "print(y.mean(),y_train.mean(),y_test.mean())"
      ],
      "metadata": {
        "id": "vm6fKM4eW6zC"
      },
      "execution_count": null,
      "outputs": []
    },
    {
      "cell_type": "code",
      "source": [
        "x_train, x_test, y_train, y_test = train_test_split(x,y,test_size=0.1, stratify=y)\n",
        "# stratify ---> for correct distribution of data as of the original data\n",
        "print(y.mean(), y_train.mean(), y_test.mean())"
      ],
      "metadata": {
        "id": "PNmK7geL8k34"
      },
      "execution_count": null,
      "outputs": []
    },
    {
      "cell_type": "code",
      "source": [
        "x_train,x_test,y_train,y_test = train_test_split(x,y,test_size=0.1,stratify=y,random_state=1)\n",
        "# random state ---> specific split of data each value of random_state splits the data differently"
      ],
      "metadata": {
        "id": "9MqBEdjn-Eb1"
      },
      "execution_count": null,
      "outputs": []
    },
    {
      "cell_type": "code",
      "source": [
        "print(x.mean(), x_train.mean(), x_test.mean())"
      ],
      "metadata": {
        "id": "eCG_8ZRmBu2i"
      },
      "execution_count": null,
      "outputs": []
    },
    {
      "cell_type": "code",
      "source": [
        "print(x_train)"
      ],
      "metadata": {
        "id": "UVg3AvYPCBK6"
      },
      "execution_count": null,
      "outputs": []
    },
    {
      "cell_type": "markdown",
      "source": [
        "**Logistic Regression**"
      ],
      "metadata": {
        "id": "dlVYTrKrCKbH"
      }
    },
    {
      "cell_type": "code",
      "source": [
        "# import logistic regression from sklearn\n",
        "from sklearn.linear_model import LogisticRegression"
      ],
      "metadata": {
        "id": "WC88A2XcCEW1"
      },
      "execution_count": null,
      "outputs": []
    },
    {
      "cell_type": "code",
      "source": [
        "classifier = LogisticRegression() # loading the logistic regression model to the variable \"classifier\""
      ],
      "metadata": {
        "id": "Di_vAUXwDPgu"
      },
      "execution_count": null,
      "outputs": []
    },
    {
      "cell_type": "code",
      "source": [
        "classifier.fit?"
      ],
      "metadata": {
        "id": "q-vVpVYHDich"
      },
      "execution_count": null,
      "outputs": []
    },
    {
      "cell_type": "code",
      "source": [
        "# training the model on training data\n",
        "classifier.fit(x_train,y_train)"
      ],
      "metadata": {
        "id": "OmFgCYqIDuPp"
      },
      "execution_count": null,
      "outputs": []
    },
    {
      "cell_type": "markdown",
      "source": [
        "**Evaluation of the model**"
      ],
      "metadata": {
        "id": "cXPZ-OyPEFMM"
      }
    },
    {
      "cell_type": "code",
      "source": [
        "# import accuracy_score\n",
        "from sklearn.metrics import accuracy_score"
      ],
      "metadata": {
        "id": "okLKqkKqEPng"
      },
      "execution_count": null,
      "outputs": []
    },
    {
      "cell_type": "code",
      "source": [
        "prediction_on_training_data = classifier.predict(x_train)\n",
        "accuracy_on_training_data = accuracy_score(y_train, prediction_on_training_data)\n"
      ],
      "metadata": {
        "id": "Dns-1h8gEEJu"
      },
      "execution_count": null,
      "outputs": []
    },
    {
      "cell_type": "code",
      "source": [
        "print('Accuracy on training data: ', accuracy_on_training_data)"
      ],
      "metadata": {
        "id": "d6wh5qUTE3l8"
      },
      "execution_count": null,
      "outputs": []
    },
    {
      "cell_type": "code",
      "source": [
        "#prediction on test data\n",
        "prediction_on_test_data = classifier.predict(x_test)\n",
        "accuracy_on_test_data = accuracy_score(y_test, prediction_on_test_data)"
      ],
      "metadata": {
        "id": "jDambEZ0FKE6"
      },
      "execution_count": null,
      "outputs": []
    },
    {
      "cell_type": "code",
      "source": [
        "print('Accuracy on test data: ', accuracy_on_test_data)"
      ],
      "metadata": {
        "id": "dqYQ_ezwFdd6"
      },
      "execution_count": null,
      "outputs": []
    },
    {
      "cell_type": "markdown",
      "source": [
        "Detection whether the patient has breast cancer in Benign or Malignant"
      ],
      "metadata": {
        "id": "Viphe4mrFmM0"
      }
    },
    {
      "cell_type": "code",
      "source": [
        "input_data = (17.99,10.38,122.8,1001,0.1184,0.2776,0.3001,0.1471,0.2419,0.07871,1.095,0.9053,8.589,153.4,0.006399,0.04904,0.05373,0.01587,0.03003,0.006193,25.38,17.33,184.6,2019,0.1622,0.6656,0.7119,0.2654,0.4601,0.1189)\n",
        "# change the input_data to numpy_array to make prediction\n",
        "input_data_as_numpy_array = np.asarray(input_data)\n",
        "print(input_data)\n",
        "\n",
        "\n",
        "#reshape the arra as we are predictin the output for one instance\n",
        "input_data_reshaped = input_data_as_numpy_array.reshape(1,-1)\n",
        "\n",
        "#prediction\n",
        "prediction = classifier.predict(input_data_reshaped)\n",
        "print(prediction) # returns a list with element [0] if \"Malignant; returns a listwith element[1] if benign\"\n",
        "\n",
        "if (prediction[0]==0):\n",
        "  print('The breast cancer is Malignant')\n",
        "else:\n",
        "    print('The breast cancer is Benign')\n",
        "\n"
      ],
      "metadata": {
        "id": "DwaXElluIZvE"
      },
      "execution_count": null,
      "outputs": []
    }
  ]
}